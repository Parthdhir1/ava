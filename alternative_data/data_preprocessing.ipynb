{
 "cells": [
  {
   "cell_type": "code",
   "execution_count": 1,
   "metadata": {},
   "outputs": [
    {
     "name": "stdout",
     "output_type": "stream",
     "text": [
      "--2020-02-15 19:03:04--  https://github.com/clinc/oos-eval/blob/master/data/data_full.json\n",
      "Resolving github.com (github.com)... 140.82.113.3\n",
      "Connecting to github.com (github.com)|140.82.113.3|:443... connected.\n",
      "HTTP request sent, awaiting response... 200 OK\n",
      "Length: unspecified [text/html]\n",
      "Saving to: ‘data_full.json’\n",
      "\n",
      "data_full.json          [ <=>                ]  64.08K  --.-KB/s    in 0.04s   \n",
      "\n",
      "2020-02-15 19:03:04 (1.52 MB/s) - ‘data_full.json’ saved [65619]\n",
      "\n"
     ]
    }
   ],
   "source": [
    "# download the data from github \n",
    "# Larson et al., An Evaluation Dataset for Intent Classification and Out-of-Scope Prediction, Proceedings of the 2019 Conference on Empirical Methods in Natural Language Processing and the 9th International Joint Conference on Natural Language Processing (EMNLP-IJCNLP)\n",
    "# !wget https://github.com/clinc/oos-eval/blob/master/data/data_full.json"
   ]
  },
  {
   "cell_type": "code",
   "execution_count": null,
   "metadata": {},
   "outputs": [],
   "source": [
    "# parse the file\n",
    "import json\n",
    "\n",
    "list_data = json.loads(arrayJson)\n",
    "\n"
   ]
  }
 ],
 "metadata": {
  "kernelspec": {
   "display_name": "Python 3",
   "language": "python",
   "name": "python3"
  },
  "language_info": {
   "codemirror_mode": {
    "name": "ipython",
    "version": 3
   },
   "file_extension": ".py",
   "mimetype": "text/x-python",
   "name": "python",
   "nbconvert_exporter": "python",
   "pygments_lexer": "ipython3",
   "version": "3.6.9"
  }
 },
 "nbformat": 4,
 "nbformat_minor": 4
}
