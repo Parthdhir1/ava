{
 "cells": [
  {
   "cell_type": "code",
   "execution_count": 5,
   "metadata": {},
   "outputs": [
    {
     "data": {
      "text/html": [
       "<div>\n",
       "<style scoped>\n",
       "    .dataframe tbody tr th:only-of-type {\n",
       "        vertical-align: middle;\n",
       "    }\n",
       "\n",
       "    .dataframe tbody tr th {\n",
       "        vertical-align: top;\n",
       "    }\n",
       "\n",
       "    .dataframe thead th {\n",
       "        text-align: right;\n",
       "    }\n",
       "</style>\n",
       "<table border=\"1\" class=\"dataframe\">\n",
       "  <thead>\n",
       "    <tr style=\"text-align: right;\">\n",
       "      <th></th>\n",
       "      <th>URL</th>\n",
       "      <th>Text</th>\n",
       "    </tr>\n",
       "  </thead>\n",
       "  <tbody>\n",
       "    <tr>\n",
       "      <th>0</th>\n",
       "      <td>https://investor.vanguard.com/contact-us/faqs/...</td>\n",
       "      <td>How do I send money from my bank to Vanguard?...</td>\n",
       "    </tr>\n",
       "    <tr>\n",
       "      <th>1</th>\n",
       "      <td>https://investor.vanguard.com/contact-us/faqs/...</td>\n",
       "      <td>How do I send a wire to my bank?    You can w...</td>\n",
       "    </tr>\n",
       "    <tr>\n",
       "      <th>2</th>\n",
       "      <td>https://investor.vanguard.com/contact-us/faqs/...</td>\n",
       "      <td>What is the difference between a wire and a b...</td>\n",
       "    </tr>\n",
       "    <tr>\n",
       "      <th>3</th>\n",
       "      <td>https://investor.vanguard.com/contact-us/faqs/...</td>\n",
       "      <td>How long does it take to verify a bank?    On...</td>\n",
       "    </tr>\n",
       "    <tr>\n",
       "      <th>4</th>\n",
       "      <td>https://investor.vanguard.com/contact-us/faqs/...</td>\n",
       "      <td>How do I exchange a Vanguard mutual fund for ...</td>\n",
       "    </tr>\n",
       "  </tbody>\n",
       "</table>\n",
       "</div>"
      ],
      "text/plain": [
       "                                                 URL  \\\n",
       "0  https://investor.vanguard.com/contact-us/faqs/...   \n",
       "1  https://investor.vanguard.com/contact-us/faqs/...   \n",
       "2  https://investor.vanguard.com/contact-us/faqs/...   \n",
       "3  https://investor.vanguard.com/contact-us/faqs/...   \n",
       "4  https://investor.vanguard.com/contact-us/faqs/...   \n",
       "\n",
       "                                                Text  \n",
       "0   How do I send money from my bank to Vanguard?...  \n",
       "1   How do I send a wire to my bank?    You can w...  \n",
       "2   What is the difference between a wire and a b...  \n",
       "3   How long does it take to verify a bank?    On...  \n",
       "4   How do I exchange a Vanguard mutual fund for ...  "
      ]
     },
     "execution_count": 5,
     "metadata": {},
     "output_type": "execute_result"
    }
   ],
   "source": [
    "# create a list of questions\n",
    "import pandas as pd\n",
    "df = pd.read_pickle('dataframe.pkl')\n",
    "df.head()"
   ]
  },
  {
   "cell_type": "code",
   "execution_count": 6,
   "metadata": {},
   "outputs": [],
   "source": [
    "import support_functions\n",
    "question_dict, question_list = support_functions.generate_questions(df)\n",
    "question_list = [item for sublist in question_list for item in sublist]"
   ]
  },
  {
   "cell_type": "code",
   "execution_count": 10,
   "metadata": {},
   "outputs": [],
   "source": [
    "list_common_examples_dict = []\n",
    "for question in question_list:\n",
    "    question_dict = {\"text\": question, \"intent\": \"ask_question\", \"entities\": []}\n",
    "    list_common_examples_dict.append(question_dict)"
   ]
  },
  {
   "cell_type": "code",
   "execution_count": 11,
   "metadata": {},
   "outputs": [],
   "source": [
    "greet_list = ['hey', 'hello', 'hi', 'good morning', 'good evening', 'good afternoon', 'hey there', 'hi there', 'hii', 'Hi']\n",
    "for greet in greet_list:\n",
    "    greet_dict = {\"text\": greet, \"intent\": \"greet\", \"entities\":[]}\n",
    "    list_common_examples_dict.append(greet_dict)"
   ]
  },
  {
   "cell_type": "code",
   "execution_count": 12,
   "metadata": {},
   "outputs": [],
   "source": [
    "fine_ask_list = ['I am good, how are you doing?', 'I am good, how are you?']\n",
    "for fine_ask in fine_ask_list:\n",
    "    fine_ask_dict = {\"text\": fine_ask, \"intent\": \"fine_ask\", \"entities\":[]}\n",
    "    list_common_examples_dict.append(fine_ask_dict)"
   ]
  },
  {
   "cell_type": "code",
   "execution_count": 13,
   "metadata": {},
   "outputs": [],
   "source": [
    "fine_normal_list = ['I am good', 'Good', 'Great']\n",
    "for fine_normal in fine_normal_list:\n",
    "    fine_normal_dict = {\"text\": fine_normal, \"intent\": \"fine_normal\", \"entities\":[]}\n",
    "    list_common_examples_dict.append(fine_normal_dict)"
   ]
  },
  {
   "cell_type": "code",
   "execution_count": 14,
   "metadata": {},
   "outputs": [],
   "source": [
    "answer_pos_list = ['Yes', 'yes', 'Yea', 'yea']\n",
    "for answer_pos in answer_pos_list:\n",
    "    answer_pos_dict = {\"text\": answer_pos, \"intent\": \"answer_positive\", \"entities\":[]}\n",
    "    list_common_examples_dict.append(answer_pos_dict)"
   ]
  },
  {
   "cell_type": "code",
   "execution_count": 15,
   "metadata": {},
   "outputs": [],
   "source": [
    "answer_neg_list = ['No', 'no', 'Not really', 'not really']\n",
    "for answer_neg in answer_neg_list:\n",
    "    answer_neg_dict = {\"text\": answer_neg, \"intent\": \"answer_negative\", \"entities\":[]}\n",
    "    list_common_examples_dict.append(answer_neg_dict)"
   ]
  },
  {
   "cell_type": "code",
   "execution_count": 17,
   "metadata": {},
   "outputs": [],
   "source": [
    "thanks_list = ['Thanks', 'Thank you so much', 'Thank you']\n",
    "for thanks in thanks_list:\n",
    "    thanks_dict = {\"text\": thanks, \"intent\": \"thanks\", \"entities\":[]}\n",
    "    list_common_examples_dict.append(thanks_dict)"
   ]
  },
  {
   "cell_type": "code",
   "execution_count": 18,
   "metadata": {},
   "outputs": [],
   "source": [
    "bye_list = ['No, I am good as of now. Bye', 'Bye', 'Bbye']\n",
    "for bye in bye_list:\n",
    "    bye_dict = {\"text\": bye, \"intent\": \"bye\", \"entities\":[]}\n",
    "    list_common_examples_dict.append(bye_dict)"
   ]
  },
  {
   "cell_type": "code",
   "execution_count": null,
   "metadata": {},
   "outputs": [],
   "source": [
    "{\n",
    "    \"rasa_nlu_data\": {\n",
    "        \"common_examples\": [],\n",
    "        \"regex_features\" : [],\n",
    "        \"lookup_tables\"  : [],\n",
    "        \"entity_synonyms\": []\n",
    "    }\n",
    "}"
   ]
  },
  {
   "cell_type": "code",
   "execution_count": 19,
   "metadata": {},
   "outputs": [],
   "source": [
    "rasa_nlu_data_dict = {}\n",
    "rasa_nlu_data_dict[\"common_examples\"] = list_common_examples_dict\n",
    "rasa_nlu_data_dict[\"regex_features\"] = []\n",
    "rasa_nlu_data_dict[\"lookup_tables\"] = []\n",
    "rasa_nlu_data_dict[\"entity_synonyms\"] = []"
   ]
  },
  {
   "cell_type": "code",
   "execution_count": 20,
   "metadata": {},
   "outputs": [],
   "source": [
    "main_dict = {}\n",
    "main_dict[\"rasa_nlu_data\"] = rasa_nlu_data_dict"
   ]
  },
  {
   "cell_type": "code",
   "execution_count": 21,
   "metadata": {},
   "outputs": [],
   "source": [
    "import json\n",
    "with open('nlu.json', 'w') as outfile:\n",
    "    json.dump(main_dict, outfile)"
   ]
  },
  {
   "cell_type": "code",
   "execution_count": null,
   "metadata": {},
   "outputs": [],
   "source": []
  }
 ],
 "metadata": {
  "kernelspec": {
   "display_name": "Python 3",
   "language": "python",
   "name": "python3"
  },
  "language_info": {
   "codemirror_mode": {
    "name": "ipython",
    "version": 3
   },
   "file_extension": ".py",
   "mimetype": "text/x-python",
   "name": "python",
   "nbconvert_exporter": "python",
   "pygments_lexer": "ipython3",
   "version": "3.6.8"
  }
 },
 "nbformat": 4,
 "nbformat_minor": 2
}
